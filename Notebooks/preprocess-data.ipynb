{
 "cells": [
  {
   "cell_type": "code",
   "execution_count": 1,
   "id": "8f631efe-8040-48b3-92c8-f82cbe784490",
   "metadata": {},
   "outputs": [],
   "source": [
    "import pandas as pd\n",
    "\n",
    "from pathlib import Path"
   ]
  },
  {
   "cell_type": "code",
   "execution_count": 2,
   "id": "916faa93-2f8a-4145-ad5f-3826df3c003c",
   "metadata": {},
   "outputs": [
    {
     "data": {
      "text/plain": [
       "((8000, 2), (8000, 2))"
      ]
     },
     "execution_count": 2,
     "metadata": {},
     "output_type": "execute_result"
    }
   ],
   "source": [
    "def load_split_data(split, content_path: Path = Path(\"../data/stack_overflow_16k/\")):\n",
    "    split_data = []\n",
    "    label_id = 0\n",
    "    for label_id, lang_folder in enumerate(\n",
    "        [lang_folder for lang_folder in (content_path / split).iterdir() if lang_folder.is_dir()]\n",
    "        ):\n",
    "        lang_data = pd.concat(\n",
    "            [\n",
    "                pd.read_csv(text_file, header=None, names=[\"text\"]) for text_file in lang_folder.glob(\"*.txt\")\n",
    "            ],\n",
    "            axis=0,\n",
    "            ignore_index=True,\n",
    "        )\n",
    "        lang_data[\"label\"] = label_id\n",
    "        split_data.append(lang_data)\n",
    "            \n",
    "    return pd.concat(split_data, axis=0, ignore_index=True)\n",
    "\n",
    "train_dataset = load_split_data(\"train\")\n",
    "test_dataset = load_split_data(\"test\")\n",
    "\n",
    "train_dataset.shape, test_dataset.shape"
   ]
  },
  {
   "cell_type": "code",
   "execution_count": 3,
   "id": "1c1c4570-e39b-41f1-b2f6-8a65ef78f0a9",
   "metadata": {},
   "outputs": [
    {
     "data": {
      "text/html": [
       "<div>\n",
       "<style scoped>\n",
       "    .dataframe tbody tr th:only-of-type {\n",
       "        vertical-align: middle;\n",
       "    }\n",
       "\n",
       "    .dataframe tbody tr th {\n",
       "        vertical-align: top;\n",
       "    }\n",
       "\n",
       "    .dataframe thead th {\n",
       "        text-align: right;\n",
       "    }\n",
       "</style>\n",
       "<table border=\"1\" class=\"dataframe\">\n",
       "  <thead>\n",
       "    <tr style=\"text-align: right;\">\n",
       "      <th></th>\n",
       "      <th>text</th>\n",
       "      <th>label</th>\n",
       "    </tr>\n",
       "  </thead>\n",
       "  <tbody>\n",
       "    <tr>\n",
       "      <th>0</th>\n",
       "      <td>how to put multiple pickles files in a single ...</td>\n",
       "      <td>0</td>\n",
       "    </tr>\n",
       "    <tr>\n",
       "      <th>1</th>\n",
       "      <td>blank bins every 20 minutes i have a time fiel...</td>\n",
       "      <td>0</td>\n",
       "    </tr>\n",
       "    <tr>\n",
       "      <th>2</th>\n",
       "      <td>why is my \"return\" outside the function? i've ...</td>\n",
       "      <td>0</td>\n",
       "    </tr>\n",
       "    <tr>\n",
       "      <th>3</th>\n",
       "      <td>value error: '10.0.0.150' is an invalid ip ver...</td>\n",
       "      <td>0</td>\n",
       "    </tr>\n",
       "    <tr>\n",
       "      <th>4</th>\n",
       "      <td>add text to end of line without loading file i...</td>\n",
       "      <td>0</td>\n",
       "    </tr>\n",
       "  </tbody>\n",
       "</table>\n",
       "</div>"
      ],
      "text/plain": [
       "                                                text  label\n",
       "0  how to put multiple pickles files in a single ...      0\n",
       "1  blank bins every 20 minutes i have a time fiel...      0\n",
       "2  why is my \"return\" outside the function? i've ...      0\n",
       "3  value error: '10.0.0.150' is an invalid ip ver...      0\n",
       "4  add text to end of line without loading file i...      0"
      ]
     },
     "execution_count": 3,
     "metadata": {},
     "output_type": "execute_result"
    }
   ],
   "source": [
    "train_dataset.head()"
   ]
  },
  {
   "cell_type": "code",
   "execution_count": 4,
   "id": "7dfe9ce5-bcf9-4d62-8654-b1bcf8cc7b01",
   "metadata": {},
   "outputs": [
    {
     "data": {
      "text/plain": [
       "label\n",
       "0    2000\n",
       "1    2000\n",
       "2    2000\n",
       "3    2000\n",
       "Name: count, dtype: int64"
      ]
     },
     "execution_count": 4,
     "metadata": {},
     "output_type": "execute_result"
    }
   ],
   "source": [
    "train_dataset.label.value_counts()"
   ]
  },
  {
   "cell_type": "code",
   "execution_count": 7,
   "id": "fc575df3-2ff6-431e-9994-e9cc50a12d17",
   "metadata": {},
   "outputs": [],
   "source": [
    "train_dataset.to_csv(\"../data/stack_overflow_16k/train/train.csv\", index=False)\n",
    "test_dataset.to_csv(\"../data/stack_overflow_16k/test/test.csv\", index=False)"
   ]
  },
  {
   "cell_type": "code",
   "execution_count": null,
   "id": "054e44cd-56cc-48fb-ad73-5251e4a4eecb",
   "metadata": {},
   "outputs": [],
   "source": []
  }
 ],
 "metadata": {
  "kernelspec": {
   "display_name": "Python 3 (ipykernel)",
   "language": "python",
   "name": "python3"
  },
  "language_info": {
   "codemirror_mode": {
    "name": "ipython",
    "version": 3
   },
   "file_extension": ".py",
   "mimetype": "text/x-python",
   "name": "python",
   "nbconvert_exporter": "python",
   "pygments_lexer": "ipython3",
   "version": "3.10.13"
  }
 },
 "nbformat": 4,
 "nbformat_minor": 5
}
